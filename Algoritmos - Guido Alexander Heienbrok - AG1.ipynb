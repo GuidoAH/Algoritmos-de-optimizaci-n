{
 "cells": [
  {
   "cell_type": "markdown",
   "id": "76d5bee0",
   "metadata": {},
   "source": [
    "## Actividad Guiada 1\n",
    "\n",
    "## Guido Alexander Heienbrok\n",
    "\n",
    "## Link GitHub: https://github.com/GuidoAH/Optimization-Algorithms"
   ]
  },
  {
   "cell_type": "code",
   "execution_count": 1,
   "id": "70624d74",
   "metadata": {},
   "outputs": [
    {
     "name": "stdout",
     "output_type": "stream",
     "text": [
      "Mover bloque desde 1 a 2\n",
      "Mover bloque desde 1 a 3\n",
      "Mover bloque desde 2 a 3\n",
      "Mover bloque desde 1 a 2\n",
      "Mover bloque desde 3 a 1\n",
      "Mover bloque desde 3 a 2\n",
      "Mover bloque desde 1 a 2\n",
      "Mover bloque desde 1 a 3\n",
      "Mover bloque desde 2 a 3\n",
      "Mover bloque desde 2 a 1\n",
      "Mover bloque desde 3 a 1\n",
      "Mover bloque desde 2 a 3\n",
      "Mover bloque desde 1 a 2\n",
      "Mover bloque desde 1 a 3\n",
      "Mover bloque desde 2 a 3\n"
     ]
    }
   ],
   "source": [
    "def torres_hanoi(N,origen, destino, pivote):\n",
    "  if N == 1:\n",
    "    print(f\"Mover bloque desde {origen} a {destino}\")\n",
    "    return\n",
    "\n",
    "  torres_hanoi(N-1, origen, pivote, destino)\n",
    "  print(f\"Mover bloque desde {origen} a {destino}\")\n",
    "  torres_hanoi(N-1, pivote, destino, origen)\n",
    "\n",
    "torres_hanoi(4,1,3,2)"
   ]
  }
 ],
 "metadata": {
  "kernelspec": {
   "display_name": "Python 3 (ipykernel)",
   "language": "python",
   "name": "python3"
  },
  "language_info": {
   "codemirror_mode": {
    "name": "ipython",
    "version": 3
   },
   "file_extension": ".py",
   "mimetype": "text/x-python",
   "name": "python",
   "nbconvert_exporter": "python",
   "pygments_lexer": "ipython3",
   "version": "3.9.13"
  }
 },
 "nbformat": 4,
 "nbformat_minor": 5
}
