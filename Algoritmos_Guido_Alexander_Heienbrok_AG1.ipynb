{
  "nbformat": 4,
  "nbformat_minor": 0,
  "metadata": {
    "colab": {
      "provenance": [],
      "authorship_tag": "ABX9TyNJ2BIkm0NEJENeuGEl9u7w",
      "include_colab_link": true
    },
    "kernelspec": {
      "name": "python3",
      "display_name": "Python 3"
    },
    "language_info": {
      "name": "python"
    }
  },
  "cells": [
    {
      "cell_type": "markdown",
      "metadata": {
        "id": "view-in-github",
        "colab_type": "text"
      },
      "source": [
        "<a href=\"https://colab.research.google.com/github/GuidoAH/Optimization-Algorithms/blob/main/Algoritmos_Guido_Alexander_Heienbrok_AG1.ipynb\" target=\"_parent\"><img src=\"https://colab.research.google.com/assets/colab-badge.svg\" alt=\"Open In Colab\"/></a>"
      ]
    },
    {
      "cell_type": "code",
      "execution_count": null,
      "metadata": {
        "id": "OAeHqWUs3Z8S"
      },
      "outputs": [],
      "source": []
    },
    {
      "cell_type": "markdown",
      "source": [
        "# Actividad Guiada 1\n",
        "# Guido Alexander Heienbrok\n",
        "# Link GitHub: https://github.com/GuidoAH/Optimization-Algorithms"
      ],
      "metadata": {
        "id": "xFZqWZx63azm"
      }
    },
    {
      "cell_type": "markdown",
      "source": [
        "##Indice\n",
        "\n",
        "  1. Práctica Grupal<br>\n",
        "    1.1  Torres de Hanoi<br>\n",
        "    1.2 Cambio de monedas\n",
        "\n",
        "  2. Práctica Individual: Encontrar los puntos más cercanos<br>\n",
        "    2.1 Algoritmo de fuerza bruta<br>\n",
        "      * 2.1.1 Complejidad<br>\n",
        "\n",
        "    2.2 Algoritmo 'Divide y vencerás'<br>\n",
        "      * 2.2.1 Versión 1D<br>\n",
        "      * 2.2.2 Versión 2D<br>\n",
        "      * 2.2.3 Versión 3D<br>\n",
        "      * 2.2.4 Complejidad\n"
      ],
      "metadata": {
        "id": "clpWQiyNPPmV"
      }
    },
    {
      "cell_type": "markdown",
      "source": [
        "##1. Práctica Grupal"
      ],
      "metadata": {
        "id": "Z7qK6wV1RkAB"
      }
    },
    {
      "cell_type": "markdown",
      "source": [
        "**1.1 Torres de Hanoi**"
      ],
      "metadata": {
        "id": "8aa3Q_FURpmI"
      }
    },
    {
      "cell_type": "code",
      "source": [
        "#Torres Hanoi\n",
        "def torres_hanoi(N,origen, destino, pivote):\n",
        "  if N == 1:\n",
        "    print(f\"Mover bloque desde {origen} a {destino}\")\n",
        "    return\n",
        "\n",
        "  torres_hanoi(N-1, origen, pivote, destino)\n",
        "  print(f\"Mover bloque desde {origen} a {destino}\")\n",
        "  torres_hanoi(N-1, pivote, destino, origen)\n",
        "\n",
        "torres_hanoi(4,1,3,2)"
      ],
      "metadata": {
        "colab": {
          "base_uri": "https://localhost:8080/"
        },
        "id": "GIXmxOBR3g3t",
        "outputId": "8e13bd20-853b-4b59-acdb-f949f11f2c5b"
      },
      "execution_count": null,
      "outputs": [
        {
          "output_type": "stream",
          "name": "stdout",
          "text": [
            "Mover bloque desde 1 a 2\n",
            "Mover bloque desde 1 a 3\n",
            "Mover bloque desde 2 a 3\n",
            "Mover bloque desde 1 a 2\n",
            "Mover bloque desde 3 a 1\n",
            "Mover bloque desde 3 a 2\n",
            "Mover bloque desde 1 a 2\n",
            "Mover bloque desde 1 a 3\n",
            "Mover bloque desde 2 a 3\n",
            "Mover bloque desde 2 a 1\n",
            "Mover bloque desde 3 a 1\n",
            "Mover bloque desde 2 a 3\n",
            "Mover bloque desde 1 a 2\n",
            "Mover bloque desde 1 a 3\n",
            "Mover bloque desde 2 a 3\n"
          ]
        }
      ]
    },
    {
      "cell_type": "markdown",
      "source": [
        "**1.2 Devolver Cambio de Monedas**"
      ],
      "metadata": {
        "id": "gavjCH2TRulR"
      }
    },
    {
      "cell_type": "code",
      "source": [
        "#Devolver cambio\n",
        "def cambio_monedas(cantidad, sistema):\n",
        "  print(\"sistema: \", sistema)\n",
        "\n",
        "# Definimos nuestras variables y elementos\n",
        "  solucion = []\n",
        "  valor_acumulado = 0\n",
        "\n",
        "  for i in range(len(sistema)):\n",
        "    monedas = (cantidad-valor_acumulado)//sistema[i]\n",
        "    solucion.append(monedas)\n",
        "    valor_acumulado += monedas*sistema[i]\n",
        "    if valor_acumulado == cantidad:\n",
        "      break\n",
        "\n",
        "  return solucion\n",
        "\n",
        "sistema = [25,10,5,1]\n",
        "cambio_monedas(54,sistema)"
      ],
      "metadata": {
        "id": "fESaPfXhZ61C",
        "colab": {
          "base_uri": "https://localhost:8080/"
        },
        "outputId": "bce5c569-68f6-41ea-8af8-176fd7601fef"
      },
      "execution_count": null,
      "outputs": [
        {
          "output_type": "stream",
          "name": "stdout",
          "text": [
            "sistema:  [25, 10, 5, 1]\n"
          ]
        },
        {
          "output_type": "execute_result",
          "data": {
            "text/plain": [
              "[2, 0, 0, 4]"
            ]
          },
          "metadata": {},
          "execution_count": 5
        }
      ]
    },
    {
      "cell_type": "markdown",
      "source": [
        "# 2. Práctica individual\n",
        "\n",
        "**Problema: Encontrar los dos puntos más cercanos**"
      ],
      "metadata": {
        "id": "k78tG5WpP3UR"
      }
    },
    {
      "cell_type": "markdown",
      "source": [
        "**2.1 Algoritmo de fuerza bruta**<br>"
      ],
      "metadata": {
        "id": "zVOIdmkFQ3ZR"
      }
    },
    {
      "cell_type": "code",
      "source": [
        "import math\n",
        "\n",
        "#calcular la distancia entre dos puntos en 1D\n",
        "def distance(p1, p2):\n",
        "    return abs(p1 - p2)\n",
        "\n",
        "#algoritmo de fuerza bruta\n",
        "def closest_points(lst):\n",
        "    n = len(lst)\n",
        "\n",
        "    #inicializamos valores\n",
        "    min_distance = float('inf')\n",
        "    closest_point1, closest_point2 = None, None\n",
        "\n",
        "    #calcular y comparar distancia entre puntos\n",
        "    for i in range(n):\n",
        "        for j in range(i+1, n):\n",
        "            dist = distance(lst[i], lst[j])\n",
        "            if dist < min_distance:\n",
        "                min_distance = dist\n",
        "                closest_point1, closest_point2 = lst[i], lst[j]\n",
        "\n",
        "    return closest_point1, closest_point2, min_distance\n",
        "\n",
        "#ejemplo\n",
        "points = [1, 5, 3, 6, 8]\n",
        "closest_point1, closest_point2, min_distance = closest_points(points)\n",
        "\n",
        "print(\"Puntos más cercanos:\", closest_point1, closest_point2)\n",
        "print(\"Distancia mínima:\", min_distance)"
      ],
      "metadata": {
        "colab": {
          "base_uri": "https://localhost:8080/"
        },
        "id": "EuHzAJOlQ2zi",
        "outputId": "926143e6-0ca5-48e4-f9a8-249893b50704"
      },
      "execution_count": null,
      "outputs": [
        {
          "output_type": "stream",
          "name": "stdout",
          "text": [
            "Puntos más cercanos: 5 6\n",
            "Distancia mínima: 1\n"
          ]
        }
      ]
    },
    {
      "cell_type": "markdown",
      "source": [
        "**2.1.1 Complejidad**<br>\n",
        "El algoritmo de fuera bruta tiene una complejidad de $O(n^2)$ debido a los dos ciclos 'for' anidados.\n",
        "Esta complejidad viene de sumar las iteraciones de los ciclos for dando resultado la suma de la progresión aritmética:\n",
        "$(n-1) + (n-2) + ... + 1 = (n-1)\\frac{n}{2} \\approx n^2$.<br>\n",
        "\n",
        "**¿Se puede mejorar?**<br>\n",
        "La complejidad se puede mejorar con un algoritmo de 'divide y vencerás'."
      ],
      "metadata": {
        "id": "kCOgnK8YMdIt"
      }
    },
    {
      "cell_type": "markdown",
      "source": [
        "##2.2 Divide y vencerás"
      ],
      "metadata": {
        "id": "1AyTPNa7MF6e"
      }
    },
    {
      "cell_type": "markdown",
      "source": [
        "**2.2.1 Versión 1D**<br>"
      ],
      "metadata": {
        "id": "NBIQiwxsQCJx"
      }
    },
    {
      "cell_type": "code",
      "source": [
        "import math\n",
        "\n",
        "#calcular la distancia entre dos puntos en 1D\n",
        "def distance(p1, p2):\n",
        "    return abs(p1 - p2)\n",
        "\n",
        "#recursividad para encontrar los dos puntos más cercanos\n",
        "def closest_points(lst):\n",
        "    n = len(lst)\n",
        "\n",
        "#definir casos base: hay 2\n",
        "    #caso base 1: menos de 2 puntos.\n",
        "    if n < 2:\n",
        "        return None, None, float('inf')\n",
        "    #caso base 2: si hay exactamente 2 puntos, su distancia es la más cercana\n",
        "    if n == 2:\n",
        "        return lst[0], lst[1], distance(lst[0], lst[1])\n",
        "\n",
        "    #ordenar la lista de puntos\n",
        "    sorted_lst = sorted(lst)\n",
        "\n",
        "    #dividir la lista de puntos en 2 mitades\n",
        "    mid = n // 2\n",
        "    left = sorted_lst[:mid]\n",
        "    right = sorted_lst[mid:]\n",
        "\n",
        "    #encontrar los puntos más cercanos en cada mitad.\n",
        "    #aquí se emplea la recursividad al llamar a la función closest_points\n",
        "    p1_left, p2_left, distance_left = closest_points(left)\n",
        "    p1_right, p2_right, distance_right = closest_points(right)\n",
        "\n",
        "    #encontrar los puntos más cercanos en cada mitad\n",
        "    if distance_left < distance_right:\n",
        "        closest_point1, closest_point2, min_distance = p1_left, p2_left, distance_left\n",
        "    else:\n",
        "        closest_point1, closest_point2, min_distance = p1_right, p2_right, distance_right\n",
        "\n",
        "    #encontrar puntos en la franja central que quedan a la distancia minima\n",
        "    mid_points = []\n",
        "    centre = sorted_lst[mid]\n",
        "\n",
        "    #buscar los puntos dentro de una franja de anchura 2*min_distance\n",
        "    for point in sorted_lst:\n",
        "        if abs(centre-point) < min_distance:\n",
        "            mid_points.append(point)\n",
        "\n",
        "    #comprobar si hay una distancia más corta entre los puntos de la franja\n",
        "    for i in range(len(mid_points)):\n",
        "        j = i + 1\n",
        "        while j < len(mid_points) and distance(mid_points[j], mid_points[i]) < min_distance:\n",
        "            current_distance = distance(mid_points[i], mid_points[j])\n",
        "            if current_distance < min_distance:\n",
        "                closest_point1, closest_point2 = mid_points[i], mid_points[j]\n",
        "                min_distance = current_distance\n",
        "            j += 1\n",
        "\n",
        "    return closest_point1, closest_point2, min_distance\n",
        "\n",
        "#ejemplo\n",
        "points = [3, 7, 1, 22, 4, 9]\n",
        "point1, point2, min_distance = closest_points(points)\n",
        "\n",
        "print(\"Puntos más cercanos:\", point1, point2)\n",
        "print(\"Distancia mínima:\", min_distance)"
      ],
      "metadata": {
        "colab": {
          "base_uri": "https://localhost:8080/"
        },
        "id": "6jyrShLwQFJI",
        "outputId": "08035a81-4377-4ad3-bb1a-827818a39fff"
      },
      "execution_count": null,
      "outputs": [
        {
          "output_type": "stream",
          "name": "stdout",
          "text": [
            "Puntos más cercanos: 3 4\n",
            "Distancia mínima: 1\n"
          ]
        }
      ]
    },
    {
      "cell_type": "markdown",
      "source": [
        "**2.2.2 Versión 2D**<br>"
      ],
      "metadata": {
        "id": "y8m-22CtSZ16"
      }
    },
    {
      "cell_type": "code",
      "source": [
        "import math\n",
        "\n",
        "#calcular la distancia entre dos puntos en 1D\n",
        "def distance(p1, p2):\n",
        "    return math.sqrt((p1[0] - p2[0])**2 + (p1[1] - p2[1])**2)\n",
        "\n",
        "#recursividad para encontrar los dos puntos más cercanos\n",
        "def closest_points(lst):\n",
        "    n = len(lst)\n",
        "\n",
        "#definir casos base: hay 2\n",
        "    #caso base 1: menos de 2 puntos.\n",
        "    if n < 2:\n",
        "        return None, None, float('inf')\n",
        "    #caso base 2: si hay exactamente 2 puntos, su distancia es la más cercana\n",
        "    if n == 2:\n",
        "        return lst[0], lst[1], distance(lst[0], lst[1])\n",
        "\n",
        "    #ordenar la lista de puntos\n",
        "    sorted_lst = sorted(lst, key=lambda p: p[0])\n",
        "\n",
        "    #dividir la lista de puntos en 2 mitades\n",
        "    mid = n // 2\n",
        "    left = sorted_lst[:mid]\n",
        "    right = sorted_lst[mid:]\n",
        "\n",
        "    #encontrar los puntos más cercanos en cada mitad.\n",
        "    #aquí se emplea la recursividad al llamar a la función closest_points\n",
        "    p1_left, p2_left, distance_left = closest_points(left)\n",
        "    p1_right, p2_right, distance_right = closest_points(right)\n",
        "\n",
        "    #encontrar los puntos más cercanos en cada mitad\n",
        "    if distance_left < distance_right:\n",
        "        closest_point1, closest_point2, min_distance = p1_left, p2_left, distance_left\n",
        "    else:\n",
        "        closest_point1, closest_point2, min_distance = p1_right, p2_right, distance_right\n",
        "\n",
        "    #encontrar puntos en la franja central que quedan a la distancia minima\n",
        "    mid_points = []\n",
        "    mid_x = sorted_lst[mid][0]\n",
        "\n",
        "    #buscar los puntos dentro de una franja de anchura 2*min_distance\n",
        "    for point in sorted_lst:\n",
        "        if abs(point[0] - mid_x) < min_distance:\n",
        "            mid_points.append(point)\n",
        "\n",
        "    #comprobar si hay una distancia más corta entre los puntos de la franja\n",
        "    for i in range(len(mid_points)):\n",
        "        j = i + 1\n",
        "        while j < len(mid_points) and distance(mid_points[j], mid_points[i]) < min_distance:\n",
        "            current_distance = distance(mid_points[i], mid_points[j])\n",
        "            if current_distance < min_distance:\n",
        "                closest_point1, closest_point2 = mid_points[i], mid_points[j]\n",
        "                min_distance = current_distance\n",
        "            j += 1\n",
        "\n",
        "    return closest_point1, closest_point2, min_distance\n",
        "\n",
        "#ejemplo de uso\n",
        "points = [(1, 2), (5, 9), (3, 4), (6, 1), (8, 5)]\n",
        "point1, point2, min_distance = closest_points(points)\n",
        "\n",
        "print(\"Puntos más cercanos:\", point1, point2)\n",
        "print(\"Distancia mínima:\", min_distance)"
      ],
      "metadata": {
        "colab": {
          "base_uri": "https://localhost:8080/"
        },
        "id": "qy2X-GjjQIyJ",
        "outputId": "6673598c-fa05-45e2-b7e1-95507a09ccc0"
      },
      "execution_count": null,
      "outputs": [
        {
          "output_type": "stream",
          "name": "stdout",
          "text": [
            "Puntos más cercanos: (1, 2) (3, 4)\n",
            "Distancia mínima: 2.8284271247461903\n"
          ]
        }
      ]
    },
    {
      "cell_type": "markdown",
      "source": [
        "**2.2.3 Versión 3D**<br>"
      ],
      "metadata": {
        "id": "KvPP08Q-SeF5"
      }
    },
    {
      "cell_type": "code",
      "source": [
        "import math\n",
        "\n",
        "#calcular la distancia entre dos puntos en 1D\n",
        "def distance(p1, p2):\n",
        "    return math.sqrt((p1[0] - p2[0])**2 + (p1[1] - p2[1])**2)\n",
        "\n",
        "#recursividad para encontrar los dos puntos más cercanos\n",
        "def closest_points(lst):\n",
        "    n = len(lst)\n",
        "\n",
        "#definir casos base: hay 2\n",
        "    #caso base 1: menos de 2 puntos.\n",
        "    if n < 2:\n",
        "        return None, None, float('inf')\n",
        "    #caso base 2: si hay exactamente 2 puntos, su distancia es la más cercana\n",
        "    if n == 2:\n",
        "        return lst[0], lst[1], distance(lst[0], lst[1])\n",
        "\n",
        "    #ordenar la lista de puntos\n",
        "    sorted_lst = sorted(lst, key=lambda p: p[0])\n",
        "\n",
        "    #dividir la lista de puntos en 2 mitades\n",
        "    mid = n // 2\n",
        "    left = sorted_lst[:mid]\n",
        "    right = sorted_lst[mid:]\n",
        "\n",
        "    #encontrar los puntos más cercanos en cada mitad.\n",
        "    #aquí se emplea la recursividad al llamar a la función closest_points\n",
        "    p1_left, p2_left, distance_left = closest_points(left)\n",
        "    p1_right, p2_right, distance_right = closest_points(right)\n",
        "\n",
        "    #encontrar los puntos más cercanos en cada mitad\n",
        "    if distance_left < distance_right:\n",
        "        closest_point1, closest_point2, min_distance = p1_left, p2_left, distance_left\n",
        "    else:\n",
        "        closest_point1, closest_point2, min_distance = p1_right, p2_right, distance_right\n",
        "\n",
        "    #encontrar puntos en la franja central que quedan a la distancia minima\n",
        "    mid_points = []\n",
        "    mid_x = sorted_lst[mid][0]\n",
        "\n",
        "    #buscar los puntos dentro de una franja de anchura 2*min_distance\n",
        "    for point in sorted_lst:\n",
        "        if abs(point[0] - mid_x) < min_distance:\n",
        "            mid_points.append(point)\n",
        "\n",
        "    #comprobar si hay una distancia más corta entre los puntos de la franja\n",
        "    for i in range(len(mid_points)):\n",
        "        j = i + 1\n",
        "        while j < len(mid_points) and distance(mid_points[j], mid_points[i]) < min_distance:\n",
        "            current_distance = distance(mid_points[i], mid_points[j])\n",
        "            if current_distance < min_distance:\n",
        "                closest_point1, closest_point2 = mid_points[i], mid_points[j]\n",
        "                min_distance = current_distance\n",
        "            j += 1\n",
        "\n",
        "    return closest_point1, closest_point2, min_distance\n",
        "\n",
        "#ejemplo de uso\n",
        "points = [(1, 2), (5, 9), (3, 4), (6, 1), (8, 5)]\n",
        "point1, point2, min_distance = closest_points(points)\n",
        "\n",
        "print(\"Puntos más cercanos:\", point1, point2)\n",
        "print(\"Distancia mínima:\", min_distance)"
      ],
      "metadata": {
        "colab": {
          "base_uri": "https://localhost:8080/"
        },
        "id": "Lkh1hu5xSfhp",
        "outputId": "bea97dd9-5cf6-47ed-b756-dd237c6cd61c"
      },
      "execution_count": null,
      "outputs": [
        {
          "output_type": "stream",
          "name": "stdout",
          "text": [
            "Puntos más cercanos: (1, 2) (3, 4)\n",
            "Distancia mínima: 2.8284271247461903\n"
          ]
        }
      ]
    },
    {
      "cell_type": "markdown",
      "source": [
        "**2.2.4 Complejidad**<br>\n",
        "La complejidad de los algoritmos de 'divide y vencerás' (1D, 2D y 3D) es de O(n log n) debido a la función 'sort'.\n",
        "Es la complejidad óptima para este algoritmo.\n",
        "\n",
        "**¿Se puede mejorar?**<br>\n",
        "Mediante programación dinámica:\n",
        "Un algoritmo para el problema dinámico del par de puntos más cercanos en el espacio de dimensiones d fue desarrollado por Sergey Bespamyatnikh en 1998 Los puntos se pueden insertar y eliminar en $O(\\log n)$ tiempo por punto (en el peor de los casos)."
      ],
      "metadata": {
        "id": "5qITZwFHSmKh"
      }
    },
    {
      "cell_type": "markdown",
      "source": [
        "##Referencias\n",
        "[1] https://www.geeksforgeeks.org/closest-pair-of-points-onlogn-implementation/<br>\n",
        "[2] https://www.geeksforgeeks.org/closest-pair-of-points-onlogn-implementation/<br>\n",
        "[3] https://en.wikipedia.org/wiki/Closest_pair_of_points_problem<br>"
      ],
      "metadata": {
        "id": "BLSinXIMWD2L"
      }
    }
  ]
}