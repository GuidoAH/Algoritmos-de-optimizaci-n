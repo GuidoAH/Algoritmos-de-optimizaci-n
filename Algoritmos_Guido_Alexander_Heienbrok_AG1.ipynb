{
  "nbformat": 4,
  "nbformat_minor": 0,
  "metadata": {
    "colab": {
      "provenance": [],
      "authorship_tag": "ABX9TyNUMsmFdrOemKpUSWPogIA7",
      "include_colab_link": true
    },
    "kernelspec": {
      "name": "python3",
      "display_name": "Python 3"
    },
    "language_info": {
      "name": "python"
    }
  },
  "cells": [
    {
      "cell_type": "markdown",
      "metadata": {
        "id": "view-in-github",
        "colab_type": "text"
      },
      "source": [
        "<a href=\"https://colab.research.google.com/github/GuidoAH/Optimization-Algorithms/blob/main/Algoritmos_Guido_Alexander_Heienbrok_AG1.ipynb\" target=\"_parent\"><img src=\"https://colab.research.google.com/assets/colab-badge.svg\" alt=\"Open In Colab\"/></a>"
      ]
    },
    {
      "cell_type": "code",
      "execution_count": null,
      "metadata": {
        "id": "OAeHqWUs3Z8S"
      },
      "outputs": [],
      "source": []
    },
    {
      "cell_type": "markdown",
      "source": [
        "# Actividad Guiada 1\n",
        "# Guido Alexander Heienbrok\n",
        "# Link GitHub: https://github.com/GuidoAH/Optimization-Algorithms"
      ],
      "metadata": {
        "id": "xFZqWZx63azm"
      }
    },
    {
      "cell_type": "code",
      "source": [
        "#Torres Hanoi\n",
        "def torres_hanoi(N,origen, destino, pivote):\n",
        "  if N == 1:\n",
        "    print(f\"Mover bloque desde {origen} a {destino}\")\n",
        "    return\n",
        "\n",
        "  torres_hanoi(N-1, origen, pivote, destino)\n",
        "  print(f\"Mover bloque desde {origen} a {destino}\")\n",
        "  torres_hanoi(N-1, pivote, destino, origen)\n",
        "\n",
        "torres_hanoi(4,1,3,2)"
      ],
      "metadata": {
        "colab": {
          "base_uri": "https://localhost:8080/"
        },
        "id": "GIXmxOBR3g3t",
        "outputId": "8e13bd20-853b-4b59-acdb-f949f11f2c5b"
      },
      "execution_count": null,
      "outputs": [
        {
          "output_type": "stream",
          "name": "stdout",
          "text": [
            "Mover bloque desde 1 a 2\n",
            "Mover bloque desde 1 a 3\n",
            "Mover bloque desde 2 a 3\n",
            "Mover bloque desde 1 a 2\n",
            "Mover bloque desde 3 a 1\n",
            "Mover bloque desde 3 a 2\n",
            "Mover bloque desde 1 a 2\n",
            "Mover bloque desde 1 a 3\n",
            "Mover bloque desde 2 a 3\n",
            "Mover bloque desde 2 a 1\n",
            "Mover bloque desde 3 a 1\n",
            "Mover bloque desde 2 a 3\n",
            "Mover bloque desde 1 a 2\n",
            "Mover bloque desde 1 a 3\n",
            "Mover bloque desde 2 a 3\n"
          ]
        }
      ]
    },
    {
      "cell_type": "code",
      "source": [
        "#Devolver cambio\n",
        "def cambio_monedas(cantidad, sistema):\n",
        "  print(\"sistema: \", sistema)\n",
        "\n",
        "# Definimos nuestras variables y elementos\n",
        "  solucion = []\n",
        "  valor_acumulado = 0\n",
        "\n",
        "  for i in range(len(sistema)):\n",
        "    monedas = (cantidad-valor_acumulado)//sistema[i]\n",
        "    solucion.append(monedas)\n",
        "    valor_acumulado += monedas*sistema[i]\n",
        "    if valor_acumulado == cantidad:\n",
        "      break\n",
        "\n",
        "  return solucion\n",
        "\n",
        "sistema = [25,10,5,1]\n",
        "cambio_monedas(54,sistema)"
      ],
      "metadata": {
        "id": "fESaPfXhZ61C",
        "colab": {
          "base_uri": "https://localhost:8080/"
        },
        "outputId": "bce5c569-68f6-41ea-8af8-176fd7601fef"
      },
      "execution_count": null,
      "outputs": [
        {
          "output_type": "stream",
          "name": "stdout",
          "text": [
            "sistema:  [25, 10, 5, 1]\n"
          ]
        },
        {
          "output_type": "execute_result",
          "data": {
            "text/plain": [
              "[2, 0, 0, 4]"
            ]
          },
          "metadata": {},
          "execution_count": 5
        }
      ]
    }
  ]
}