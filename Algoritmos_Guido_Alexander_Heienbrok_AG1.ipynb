{
  "nbformat": 4,
  "nbformat_minor": 0,
  "metadata": {
    "colab": {
      "provenance": [],
      "authorship_tag": "ABX9TyN3DHnWgb+e3PGBk5xprsM4",
      "include_colab_link": true
    },
    "kernelspec": {
      "name": "python3",
      "display_name": "Python 3"
    },
    "language_info": {
      "name": "python"
    }
  },
  "cells": [
    {
      "cell_type": "markdown",
      "metadata": {
        "id": "view-in-github",
        "colab_type": "text"
      },
      "source": [
        "<a href=\"https://colab.research.google.com/github/GuidoAH/Optimization-Algorithms/blob/main/Algoritmos_Guido_Alexander_Heienbrok_AG1.ipynb\" target=\"_parent\"><img src=\"https://colab.research.google.com/assets/colab-badge.svg\" alt=\"Open In Colab\"/></a>"
      ]
    },
    {
      "cell_type": "code",
      "execution_count": 5,
      "metadata": {
        "id": "OAeHqWUs3Z8S"
      },
      "outputs": [],
      "source": []
    },
    {
      "cell_type": "markdown",
      "source": [
        "# Actividad Guiada 1\n",
        "# Guido Alexander Heienbrok\n",
        "# Link GitHub: https://github.com/GuidoAH/Optimization-Algorithms"
      ],
      "metadata": {
        "id": "xFZqWZx63azm"
      }
    },
    {
      "cell_type": "code",
      "source": [
        "def torres_hanoi(N,origen, destino, pivote):\n",
        "  if N == 1:\n",
        "    print(f\"Mover bloque desde {origen} a {destino}\")\n",
        "    return\n",
        "\n",
        "  torres_hanoi(N-1, origen, pivote, destino)\n",
        "  print(f\"Mover bloque desde {origen} a {destino}\")\n",
        "  torres_hanoi(N-1, pivote, destino, origen)\n",
        "\n",
        "torres_hanoi(4,1,3,2)"
      ],
      "metadata": {
        "colab": {
          "base_uri": "https://localhost:8080/"
        },
        "id": "GIXmxOBR3g3t",
        "outputId": "d44269d6-ab90-49c6-b32c-7ad5168b7bb7"
      },
      "execution_count": 5,
      "outputs": [
        {
          "output_type": "stream",
          "name": "stdout",
          "text": [
            "Mover bloque desde 1 a 2\n",
            "Mover bloque desde 1 a 3\n",
            "Mover bloque desde 2 a 3\n",
            "Mover bloque desde 1 a 2\n",
            "Mover bloque desde 3 a 1\n",
            "Mover bloque desde 3 a 2\n",
            "Mover bloque desde 1 a 2\n",
            "Mover bloque desde 1 a 3\n",
            "Mover bloque desde 2 a 3\n",
            "Mover bloque desde 2 a 1\n",
            "Mover bloque desde 3 a 1\n",
            "Mover bloque desde 2 a 3\n",
            "Mover bloque desde 1 a 2\n",
            "Mover bloque desde 1 a 3\n",
            "Mover bloque desde 2 a 3\n"
          ]
        }
      ]
    }
  ]
}