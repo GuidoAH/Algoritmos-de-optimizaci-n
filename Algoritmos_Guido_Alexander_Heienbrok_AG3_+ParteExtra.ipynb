{
  "nbformat": 4,
  "nbformat_minor": 0,
  "metadata": {
    "colab": {
      "provenance": [],
      "authorship_tag": "ABX9TyMe8e9l1zMqQvMoTYBNiocL",
      "include_colab_link": true
    },
    "kernelspec": {
      "name": "python3",
      "display_name": "Python 3"
    },
    "language_info": {
      "name": "python"
    }
  },
  "cells": [
    {
      "cell_type": "markdown",
      "metadata": {
        "id": "view-in-github",
        "colab_type": "text"
      },
      "source": [
        "<a href=\"https://colab.research.google.com/github/GuidoAH/Optimization-Algorithms/blob/main/Algoritmos_Guido_Alexander_Heienbrok_AG3_%2BParteExtra.ipynb\" target=\"_parent\"><img src=\"https://colab.research.google.com/assets/colab-badge.svg\" alt=\"Open In Colab\"/></a>"
      ]
    },
    {
      "cell_type": "markdown",
      "source": [
        "# Actividad Guiada 3\n",
        "# Guido Alexander Heienbrok\n",
        "# Link GitHub: https://github.com/GuidoAH/Optimization-Algorithms\n",
        "\n",
        "**NOTA**: Se ha realizado la parte extra (actividad individual)."
      ],
      "metadata": {
        "id": "5SxQMIv3asgp"
      }
    },
    {
      "cell_type": "markdown",
      "source": [
        "#Indice\n",
        "\n",
        "1. Cargar datos del problema\n",
        "2. Funciones básicas\n",
        "3. Búsqueda aleatoria\n",
        "4. Búsqueda local<br>\n",
        "  4.1.1 Búsqueda Local Extendida"
      ],
      "metadata": {
        "id": "QNb4JeZiaMsJ"
      }
    },
    {
      "cell_type": "code",
      "execution_count": 1,
      "metadata": {
        "colab": {
          "base_uri": "https://localhost:8080/"
        },
        "id": "-qfxIJW3Zisi",
        "outputId": "9553b904-c633-4879-c4fd-4dfc01522997"
      },
      "outputs": [
        {
          "output_type": "stream",
          "name": "stdout",
          "text": [
            "Requirement already satisfied: requests in /usr/local/lib/python3.10/dist-packages (2.27.1)\n",
            "Requirement already satisfied: urllib3<1.27,>=1.21.1 in /usr/local/lib/python3.10/dist-packages (from requests) (1.26.16)\n",
            "Requirement already satisfied: certifi>=2017.4.17 in /usr/local/lib/python3.10/dist-packages (from requests) (2023.5.7)\n",
            "Requirement already satisfied: charset-normalizer~=2.0.0 in /usr/local/lib/python3.10/dist-packages (from requests) (2.0.12)\n",
            "Requirement already satisfied: idna<4,>=2.5 in /usr/local/lib/python3.10/dist-packages (from requests) (3.4)\n",
            "Collecting tsplib95\n",
            "  Downloading tsplib95-0.7.1-py2.py3-none-any.whl (25 kB)\n",
            "Requirement already satisfied: Click>=6.0 in /usr/local/lib/python3.10/dist-packages (from tsplib95) (8.1.3)\n",
            "Collecting Deprecated~=1.2.9 (from tsplib95)\n",
            "  Downloading Deprecated-1.2.14-py2.py3-none-any.whl (9.6 kB)\n",
            "Collecting networkx~=2.1 (from tsplib95)\n",
            "  Downloading networkx-2.8.8-py3-none-any.whl (2.0 MB)\n",
            "\u001b[2K     \u001b[90m━━━━━━━━━━━━━━━━━━━━━━━━━━━━━━━━━━━━━━━━\u001b[0m \u001b[32m2.0/2.0 MB\u001b[0m \u001b[31m29.1 MB/s\u001b[0m eta \u001b[36m0:00:00\u001b[0m\n",
            "\u001b[?25hRequirement already satisfied: tabulate~=0.8.7 in /usr/local/lib/python3.10/dist-packages (from tsplib95) (0.8.10)\n",
            "Requirement already satisfied: wrapt<2,>=1.10 in /usr/local/lib/python3.10/dist-packages (from Deprecated~=1.2.9->tsplib95) (1.14.1)\n",
            "Installing collected packages: networkx, Deprecated, tsplib95\n",
            "  Attempting uninstall: networkx\n",
            "    Found existing installation: networkx 3.1\n",
            "    Uninstalling networkx-3.1:\n",
            "      Successfully uninstalled networkx-3.1\n",
            "Successfully installed Deprecated-1.2.14 networkx-2.8.8 tsplib95-0.7.1\n"
          ]
        }
      ],
      "source": [
        "!pip install requests    #Hacer llamadas http a paginas de la red\n",
        "!pip install tsplib95    #Modulo para las instancias del problema del TSP"
      ]
    },
    {
      "cell_type": "markdown",
      "source": [
        "## 1. Cargar los datos del problema"
      ],
      "metadata": {
        "id": "VHp8o2fxZor6"
      }
    },
    {
      "cell_type": "code",
      "source": [
        "import urllib.request #Hacer llamadas http a paginas de la red\n",
        "import tsplib95       #Modulo para las instancias del problema del TSP\n",
        "import math           #Modulo de funciones matematicas. Se usa para exp\n",
        "import random                     #Para generar valores aleatorios\n",
        "\n",
        "#Descargamos el fichero de datos(Matriz de distancias)\n",
        "file = \"swiss42.tsp\" ;\n",
        "urllib.request.urlretrieve(\"http://comopt.ifi.uni-heidelberg.de/software/TSPLIB95/tsp/swiss42.tsp.gz\", file + '.gz')\n",
        "!gzip -d swiss42.tsp.gz     #Descomprimir el fichero de datos"
      ],
      "metadata": {
        "id": "s3Btha0gZl8T"
      },
      "execution_count": 2,
      "outputs": []
    },
    {
      "cell_type": "code",
      "source": [
        "#Carga de datos y generación de objeto problem\n",
        "###############################################################################\n",
        "problem = tsplib95.load(file)\n",
        "\n",
        "#Nodos\n",
        "Nodos = list(problem.get_nodes())\n",
        "\n",
        "#Aristas\n",
        "Aristas = list(problem.get_edges())"
      ],
      "metadata": {
        "id": "5H7MGIoBZvCC"
      },
      "execution_count": 3,
      "outputs": []
    },
    {
      "cell_type": "code",
      "source": [
        "#Probamos algunas funciones del objeto problem\n",
        "\n",
        "#Distancia entre nodos\n",
        "problem.get_weight(0, 1)\n",
        "\n",
        "#Todas las funciones\n",
        "#Documentación: https://tsplib95.readthedocs.io/en/v0.6.1/modules.html\n",
        "\n",
        "#dir(problem)"
      ],
      "metadata": {
        "colab": {
          "base_uri": "https://localhost:8080/"
        },
        "id": "LLU9X1SvZyNx",
        "outputId": "c3f6cd0a-c83e-4a30-d159-bde0817a54eb"
      },
      "execution_count": 4,
      "outputs": [
        {
          "output_type": "execute_result",
          "data": {
            "text/plain": [
              "15"
            ]
          },
          "metadata": {},
          "execution_count": 4
        }
      ]
    },
    {
      "cell_type": "markdown",
      "source": [
        "# 2. Funciones básicas"
      ],
      "metadata": {
        "id": "e7xC-TPiZ3Mi"
      }
    },
    {
      "cell_type": "code",
      "source": [
        "\n",
        "#Funcionas basicas\n",
        "###############################################################################\n",
        "\n",
        "#Se genera una solucion aleatoria con comienzo en en el nodo 0\n",
        "def crear_solucion(Nodos):\n",
        "  solucion = [Nodos[0]]\n",
        "  for n in Nodos[1:]:\n",
        "    solucion = solucion + [random.choice(list(set(Nodos) - set({Nodos[0]}) - set(solucion)))]\n",
        "  return solucion\n",
        "\n",
        "#Devuelve la distancia entre dos nodos\n",
        "def distancia(a,b, problem):\n",
        "  return problem.get_weight(a,b)\n",
        "\n",
        "#Devuelve la distancia total de una trayectoria/solucion\n",
        "def distancia_total(solucion, problem):\n",
        "  distancia_total = 0\n",
        "  for i in range(len(solucion)-1):\n",
        "    distancia_total += distancia(solucion[i] ,solucion[i+1] ,  problem)\n",
        "  return distancia_total + distancia(solucion[len(solucion)-1] ,solucion[0], problem)"
      ],
      "metadata": {
        "id": "cCfO6M27Z1KJ"
      },
      "execution_count": 5,
      "outputs": []
    },
    {
      "cell_type": "markdown",
      "source": [
        "# 3. Búsqueda aleatoria"
      ],
      "metadata": {
        "id": "RVUXenZlZ9mh"
      }
    },
    {
      "cell_type": "code",
      "source": [
        "###############################################################################\n",
        "# BUSQUEDA ALEATORIA\n",
        "###############################################################################\n",
        "\n",
        "def busqueda_aleatoria(problem, N):\n",
        "  #N es el numero de iteraciones\n",
        "  Nodos = list(problem.get_nodes())\n",
        "\n",
        "  mejor_solucion = []\n",
        "  #mejor_distancia = 10e100                         #Inicializamos con un valor alto\n",
        "  mejor_distancia = float('inf')                    #Inicializamos con un valor alto\n",
        "\n",
        "  for i in range(N):                                #Criterio de parada: repetir N veces pero podemos incluir otros\n",
        "    solucion = crear_solucion(Nodos)                #Genera una solucion aleatoria\n",
        "    distancia = distancia_total(solucion, problem)  #Calcula el valor objetivo(distancia total)\n",
        "\n",
        "    if distancia < mejor_distancia:                 #Compara con la mejor obtenida hasta ahora\n",
        "      mejor_solucion = solucion\n",
        "      mejor_distancia = distancia\n",
        "\n",
        "\n",
        "  print(\"Mejor solución:\" , mejor_solucion)\n",
        "  print(\"Distancia     :\" , mejor_distancia)\n",
        "  return mejor_solucion\n",
        "\n",
        "\n",
        "#Busqueda aleatoria con 5000 iteraciones\n",
        "solucion = busqueda_aleatoria(problem, 10000)"
      ],
      "metadata": {
        "colab": {
          "base_uri": "https://localhost:8080/"
        },
        "id": "gZASks8OZ8TJ",
        "outputId": "01796c77-b4a2-4e34-a0d0-53b5a4d3afa1"
      },
      "execution_count": 6,
      "outputs": [
        {
          "output_type": "stream",
          "name": "stdout",
          "text": [
            "Mejor solución: [0, 11, 1, 6, 15, 36, 35, 31, 20, 33, 26, 24, 40, 18, 14, 30, 3, 13, 17, 28, 29, 22, 37, 2, 12, 27, 41, 10, 5, 8, 9, 38, 32, 34, 16, 19, 39, 25, 21, 23, 7, 4]\n",
            "Distancia     : 3794\n"
          ]
        }
      ]
    },
    {
      "cell_type": "markdown",
      "source": [
        "# 4. Búsqueda local"
      ],
      "metadata": {
        "id": "pTywgnPdaEKK"
      }
    },
    {
      "cell_type": "code",
      "source": [
        "###############################################################################\n",
        "# BUSQUEDA LOCAL\n",
        "###############################################################################\n",
        "def genera_vecina(solucion):\n",
        "  #Generador de soluciones vecinas: 2-opt (intercambiar 2 nodos) Si hay N nodos se generan (N-1)x(N-2)/2 soluciones\n",
        "  #Se puede modificar para aplicar otros generadores distintos que 2-opt\n",
        "  #print(solucion)\n",
        "  mejor_solucion = []\n",
        "  mejor_distancia = 10e100\n",
        "  for i in range(1,len(solucion)-1):          #Recorremos todos los nodos en bucle doble para evaluar todos los intercambios 2-opt\n",
        "    for j in range(i+1, len(solucion)):\n",
        "\n",
        "      #Se genera una nueva solución intercambiando los dos nodos i,j:\n",
        "      vecina = solucion[:i] + [solucion[j]] + solucion[i+1:j] + [solucion[i]] + solucion[j+1:]\n",
        "\n",
        "      #Se evalua la nueva solución ...\n",
        "      distancia_vecina = distancia_total(vecina, problem)\n",
        "\n",
        "      #... para guardarla si mejora las anteriores\n",
        "      if distancia_vecina <= mejor_distancia:\n",
        "        mejor_distancia = distancia_vecina\n",
        "        mejor_solucion = vecina\n",
        "  return mejor_solucion\n",
        "\n",
        "\n",
        "#solucion = [1, 47, 13, 41, 40, 19, 42, 44, 37, 5, 22, 28, 3, 2, 29, 21, 50, 34, 30, 9, 16, 11, 38, 49, 10, 39, 33, 45, 15, 24, 43, 26, 31, 36, 35, 20, 8, 7, 23, 48, 27, 12, 17, 4, 18, 25, 14, 6, 51, 46, 32]\n",
        "print(\"Distancia Solucion Incial:\" , distancia_total(solucion, problem))\n",
        "\n",
        "\n",
        "nueva_solucion = genera_vecina(solucion)\n",
        "print(\"Distancia Mejor Solucion Local:\", distancia_total(nueva_solucion, problem))\n"
      ],
      "metadata": {
        "colab": {
          "base_uri": "https://localhost:8080/"
        },
        "id": "iFTx1oU5aCpR",
        "outputId": "b87ce20b-b955-4b40-e295-9d78f083a855"
      },
      "execution_count": 7,
      "outputs": [
        {
          "output_type": "stream",
          "name": "stdout",
          "text": [
            "Distancia Solucion Incial: 3794\n",
            "Distancia Mejor Solucion Local: 3466\n"
          ]
        }
      ]
    },
    {
      "cell_type": "code",
      "source": [
        "#Busqueda Local:\n",
        "#  - Sobre el operador de vecindad 2-opt(funcion genera_vecina)\n",
        "#  - Sin criterio de parada, se para cuando no es posible mejorar.\n",
        "def busqueda_local(problem):\n",
        "  mejor_solucion = []\n",
        "\n",
        "  #Generar una solucion inicial de referencia(aleatoria)\n",
        "  solucion_referencia = crear_solucion(Nodos)\n",
        "  mejor_distancia = distancia_total(solucion_referencia, problem)\n",
        "  print(distancia_total(solucion_referencia,problem))\n",
        "\n",
        "  iteracion=0             #Un contador para saber las iteraciones que hacemos\n",
        "  while(1):\n",
        "    iteracion +=1         #Incrementamos el contador\n",
        "    #print('#',iteracion)\n",
        "\n",
        "    #Obtenemos la mejor vecina ...\n",
        "    vecina = genera_vecina(solucion_referencia)\n",
        "\n",
        "    #... y la evaluamos para ver si mejoramos respecto a lo encontrado hasta el momento\n",
        "    distancia_vecina = distancia_total(vecina, problem)\n",
        "\n",
        "    #Si no mejoramos hay que terminar. Hemos llegado a un minimo local(según nuestro operador de vencindad 2-opt)\n",
        "    if distancia_vecina < mejor_distancia:\n",
        "      mejor_solucion = vecina                   #Guarda la mejor solución encontrada\n",
        "      mejor_distancia = distancia_vecina\n",
        "\n",
        "    else:\n",
        "      print(\"En la iteracion \", iteracion, \", la mejor solución encontrada es:\" , mejor_solucion)\n",
        "      print(\"Distancia     :\" , mejor_distancia)\n",
        "      return mejor_solucion\n",
        "\n",
        "    solucion_referencia = vecina\n",
        "\n",
        "\n",
        "sol = busqueda_local(problem)"
      ],
      "metadata": {
        "colab": {
          "base_uri": "https://localhost:8080/"
        },
        "id": "p9n0lQq2UkY1",
        "outputId": "8695c0ad-7297-4eb0-df3e-fcab96f63af8"
      },
      "execution_count": 8,
      "outputs": [
        {
          "output_type": "stream",
          "name": "stdout",
          "text": [
            "4619\n",
            "En la iteracion  38 , la mejor solución encontrada es: [0, 32, 34, 33, 38, 22, 39, 23, 41, 10, 37, 15, 16, 14, 19, 13, 26, 18, 12, 11, 25, 40, 24, 21, 9, 8, 2, 27, 3, 1, 6, 5, 4, 28, 29, 30, 20, 35, 36, 31, 17, 7]\n",
            "Distancia     : 1723\n"
          ]
        }
      ]
    },
    {
      "cell_type": "markdown",
      "source": [
        "## 4.1.1 Búsqueda Local Extendida\n",
        "\n",
        "A continuación se profundiza la búsqueda local, anadiendo un multiarranque a la búsqueda local. Es decir, el proceso sería el siguiente:\n",
        "- Se genera una solución aleatoria\n",
        "- Se busca la mejor solución vecina y se guarda esa mejor solución como \"ultra_mejor_solucion\".\n",
        "- A continuación se vuelve a crear una solución aleatoria, se vuelve a buscar la mejor solución vecina. Sí la nueva solución vecina es mejor que \"ultra_mejor_solucion\", entonces la nueva mejor solución vecina pasa a ser \"ultra_mejor_solucion\"\n",
        "\n",
        "En definita, el algoritmo de búsqueda local anterior se ha anidado dentro de otro bucle que dependerá de un número de iteraciones.\n"
      ],
      "metadata": {
        "id": "eAWmHBGiUZ0O"
      }
    },
    {
      "cell_type": "code",
      "source": [
        "#Busqueda Local:\n",
        "#  - Sobre el operador de vecindad 2-opt(funcion genera_vecina)\n",
        "#  - Sin criterio de parada, se para cuando no es posible mejorar.\n",
        "def busqueda_local(problem):\n",
        "  mejor_solucion = []\n",
        "\n",
        "  iterator1 = 0\n",
        "  while iterator1 < 20:\n",
        "    #Generar una solucion inicial de referencia(aleatoria)\n",
        "    solucion_referencia = crear_solucion(Nodos)\n",
        "    mejor_distancia = distancia_total(solucion_referencia, problem)\n",
        "    if iterator1 == 0:\n",
        "      ultra_mejor_distancia = mejor_distancia\n",
        "      ultra_mejor_solucion = solucion_referencia\n",
        "#    print(distancia_total(solucion_referencia,problem))\n",
        "\n",
        "    iterator2=0             #Un contador para saber las iteraciones que hacemos\n",
        "    while(1):\n",
        "      iterator2 +=1         #Incrementamos el contador\n",
        "      #print('#',iteracion)\n",
        "\n",
        "      #Obtenemos la mejor vecina ...\n",
        "      vecina = genera_vecina(solucion_referencia)\n",
        "\n",
        "      #... y la evaluamos para ver si mejoramos respecto a lo encontrado hasta el momento\n",
        "      distancia_vecina = distancia_total(vecina, problem)\n",
        "\n",
        "      #Si no mejoramos hay que terminar. Hemos llegado a un minimo local(según nuestro operador de vencindad 2-opt)\n",
        "      if distancia_vecina < mejor_distancia:\n",
        "        mejor_solucion = vecina                   #Guarda la mejor solución encontrada\n",
        "        mejor_distancia = distancia_vecina\n",
        "\n",
        "      else:\n",
        "#        print(f\"Mejor solución local {mejor_solucion}\")\n",
        "        break\n",
        "\n",
        "      solucion_referencia = vecina\n",
        "\n",
        "    if mejor_distancia < ultra_mejor_distancia:\n",
        "      ultra_mejor_distancia = mejor_distancia\n",
        "      ultra_mejor_solucion = mejor_solucion\n",
        "\n",
        "    iterator1 += 1\n",
        "    print(\"Iteración:\", iterator1, \", Distancia:\" , ultra_mejor_distancia)\n",
        "  print(\"Ultra mejor solución:\" , ultra_mejor_solucion)\n",
        "\n",
        "sol = busqueda_local(problem)"
      ],
      "metadata": {
        "colab": {
          "base_uri": "https://localhost:8080/"
        },
        "id": "tybqujUQaGJo",
        "outputId": "cc13c360-05f5-4c39-d8bb-5e72509b56a5"
      },
      "execution_count": 15,
      "outputs": [
        {
          "output_type": "stream",
          "name": "stdout",
          "text": [
            "Iteración: 1 , Distancia: 1721\n",
            "Iteración: 2 , Distancia: 1639\n",
            "Iteración: 3 , Distancia: 1639\n",
            "Iteración: 4 , Distancia: 1639\n",
            "Iteración: 5 , Distancia: 1639\n",
            "Iteración: 6 , Distancia: 1639\n",
            "Iteración: 7 , Distancia: 1639\n",
            "Iteración: 8 , Distancia: 1639\n",
            "Iteración: 9 , Distancia: 1639\n",
            "Iteración: 10 , Distancia: 1505\n",
            "Iteración: 11 , Distancia: 1505\n",
            "Iteración: 12 , Distancia: 1505\n",
            "Iteración: 13 , Distancia: 1505\n",
            "Iteración: 14 , Distancia: 1505\n",
            "Iteración: 15 , Distancia: 1505\n",
            "Iteración: 16 , Distancia: 1505\n",
            "Iteración: 17 , Distancia: 1505\n",
            "Iteración: 18 , Distancia: 1505\n",
            "Iteración: 19 , Distancia: 1505\n",
            "Iteración: 20 , Distancia: 1505\n",
            "Ultra mejor solución: [0, 27, 2, 4, 10, 8, 9, 23, 41, 12, 11, 25, 40, 24, 21, 39, 22, 38, 30, 29, 28, 6, 5, 26, 18, 13, 19, 14, 16, 15, 37, 7, 17, 36, 35, 31, 20, 33, 34, 32, 3, 1]\n"
          ]
        }
      ]
    }
  ]
}